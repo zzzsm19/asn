{
 "cells": [
  {
   "cell_type": "code",
   "execution_count": 2,
   "metadata": {},
   "outputs": [],
   "source": [
    "import re\n",
    "import datetime\n",
    "from dateutil.relativedelta import relativedelta\n",
    "\n",
    "def datetime_to_str(dt):\n",
    "    return dt.strftime('%Y-%m-%d %H:%M:%S')\n",
    "\n",
    "def str_to_datetime(dt_str):\n",
    "    return datetime.datetime.strptime(dt_str, '%Y-%m-%d %H:%M:%S')\n",
    "\n",
    "def parse_interval(intv_str):\n",
    "    pattern = r'(\\d+)([ymdHMS])'\n",
    "    matches = re.findall(pattern, intv_str)\n",
    "    kwargs = {\n",
    "        'years': 0,\n",
    "        'months': 0,\n",
    "        'days': 0,\n",
    "        'hours': 0,\n",
    "        'minutes': 0,\n",
    "        'seconds': 0\n",
    "    }\n",
    "    for value, unit in matches:\n",
    "        value = int(value)\n",
    "        if unit == 'y':\n",
    "            kwargs['years'] = value\n",
    "        elif unit == 'm':\n",
    "            kwargs['months'] = value\n",
    "        elif unit == 'd':\n",
    "            kwargs['days'] = value\n",
    "        elif unit == 'H':\n",
    "            kwargs['hours'] = value\n",
    "        elif unit == 'M':\n",
    "            kwargs['minutes'] = value\n",
    "        elif unit == 'S':\n",
    "            kwargs['seconds'] = value\n",
    "    print(kwargs)\n",
    "    return relativedelta(**kwargs)\n",
    "\n",
    "def add_interval(time_now, intv_str):\n",
    "    return time_now + parse_interval(intv_str)"
   ]
  },
  {
   "cell_type": "code",
   "execution_count": 4,
   "metadata": {},
   "outputs": [
    {
     "name": "stdout",
     "output_type": "stream",
     "text": [
      "{'years': 0, 'months': 0, 'days': 0, 'hours': 1, 'minutes': 30, 'seconds': 0}\n"
     ]
    },
    {
     "data": {
      "text/plain": [
       "relativedelta(hours=+1, minutes=+30)"
      ]
     },
     "execution_count": 4,
     "metadata": {},
     "output_type": "execute_result"
    }
   ],
   "source": [
    "time_intv = '1H30M'\n",
    "parse_interval(time_intv)"
   ]
  }
 ],
 "metadata": {
  "kernelspec": {
   "display_name": "asn",
   "language": "python",
   "name": "python3"
  },
  "language_info": {
   "codemirror_mode": {
    "name": "ipython",
    "version": 3
   },
   "file_extension": ".py",
   "mimetype": "text/x-python",
   "name": "python",
   "nbconvert_exporter": "python",
   "pygments_lexer": "ipython3",
   "version": "3.12.9"
  }
 },
 "nbformat": 4,
 "nbformat_minor": 2
}
